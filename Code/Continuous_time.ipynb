{
  "nbformat": 4,
  "nbformat_minor": 0,
  "metadata": {
    "colab": {
      "name": "Continious time.ipynb",
      "provenance": [],
      "authorship_tag": "ABX9TyMjUIZWS6wWW8Zx/kN5pE7R",
      "include_colab_link": true
    },
    "kernelspec": {
      "display_name": "Python 3",
      "language": "python",
      "name": "python3"
    },
    "language_info": {
      "codemirror_mode": {
        "name": "ipython",
        "version": 3
      },
      "file_extension": ".py",
      "mimetype": "text/x-python",
      "name": "python",
      "nbconvert_exporter": "python",
      "pygments_lexer": "ipython3",
      "version": "3.7.4"
    },
    "toc": {
      "base_numbering": 1,
      "nav_menu": {},
      "number_sections": true,
      "sideBar": true,
      "skip_h1_title": false,
      "title_cell": "Table of Contents",
      "title_sidebar": "Contents",
      "toc_cell": false,
      "toc_position": {},
      "toc_section_display": true,
      "toc_window_display": false
    }
  },
  "cells": [
    {
      "cell_type": "markdown",
      "metadata": {
        "id": "view-in-github",
        "colab_type": "text"
      },
      "source": [
        "<a href=\"https://colab.research.google.com/github/MerkulovDaniil/split-sgd/blob/master/Code/Continuous_time.ipynb\" target=\"_parent\"><img src=\"https://colab.research.google.com/assets/colab-badge.svg\" alt=\"Open In Colab\"/></a>"
      ]
    },
    {
      "cell_type": "markdown",
      "metadata": {
        "colab_type": "text",
        "id": "yR8uSVLhSVKk"
      },
      "source": [
        "# Linear regression"
      ]
    },
    {
      "cell_type": "code",
      "metadata": {
        "colab_type": "code",
        "id": "kTO963H5Rpwh",
        "colab": {}
      },
      "source": [
        "# ======= Libraries =======\n",
        "\n",
        "import math\n",
        "import sys\n",
        "import os\n",
        "import time\n",
        "os.environ[\"OMP_NUM_THREADS\"] = \"5\" # export OMP_NUM_THREADS=5\n",
        "os.environ[\"OPENBLAS_NUM_THREADS\"] = \"5\" # export OPENBLAS_NUM_THREADS=5\n",
        "os.environ[\"MKL_NUM_THREADS\"] = \"5\" # export MKL_NUM_THREADS=5\n",
        "os.environ[\"VECLIB_MAXIMUM_THREADS\"] = \"5\" # export VECLIB_MAXIMUM_THREADS=5\n",
        "os.environ[\"NUMEXPR_NUM_THREADS\"] = \"5\" # export NUMEXPR_NUM_THREADS=5\n",
        "import torch\n",
        "from torch.autograd import Variable\n",
        "from torch.nn import functional as F\n",
        "import torch.nn as nn\n",
        "import torchvision.datasets as datasets\n",
        "from scipy.integrate import odeint, solve_ivp\n",
        "# from torchdiffeq import odeint\n",
        "from scipy.linalg import expm, qr\n",
        "import scipy.io as sio\n",
        "from matplotlib import pyplot as plt\n",
        "import numpy as np\n",
        "from sklearn.metrics import log_loss\n",
        "import copy\n",
        "from tqdm import tqdm\n",
        "# if torch.cuda.is_available():\n",
        "#     device = torch.device('cuda')\n",
        "# else:\n",
        "device = torch.device('cpu')\n",
        "import copy\n",
        "from fastprogress.fastprogress import master_bar, progress_bar\n",
        "import random\n",
        "# Reproducibility\n",
        "random.seed(999)\n",
        "np.random.seed(999)\n",
        "torch.manual_seed(999)\n",
        "torch.backends.cudnn.deterministic = True\n",
        "torch.backends.cudnn.benchmark = False"
      ],
      "execution_count": 0,
      "outputs": []
    },
    {
      "cell_type": "code",
      "metadata": {
        "id": "6o4tNM5LCs9Q",
        "colab_type": "code",
        "colab": {}
      },
      "source": [
        "# ======= Function definitions =======\n",
        "\n",
        "def load_tom_data(epsilon=1e-5):\n",
        "    X = sio.loadmat(\"./lls_data/fanlinear.mat\")[\"A\"].toarray()\n",
        "    theta_true = sio.loadmat(\"./lls_data/shepplogan.mat\")[\"x\"]\n",
        "    n, p = X.shape\n",
        "    y = np.squeeze(X @ theta_true)\n",
        "    return X, theta_true, y\n",
        "\n",
        "def generate_problem(p, n, lstsq=False, epsilon = 0):\n",
        "    X = np.random.randn(n, p)\n",
        "\n",
        "    # Model definition\n",
        "    theta_clean = np.ones(p)\n",
        "    y = X @ theta_clean + epsilon*np.random.randn(n) # right-hand side\n",
        "    init_bound = 1.0/math.sqrt(p)\n",
        "    theta_0 = np.array(init_bound*torch.FloatTensor(p).uniform_(-1, 1))\n",
        "\n",
        "    if lstsq == True:\n",
        "        theta_lstsq = np.linalg.lstsq(X,y)[0]\n",
        "        return X, theta_0, y, theta_lstsq\n",
        "    else:\n",
        "        return X, theta_0, y\n",
        "\n",
        "def solve_local_problem(Q, R, theta_0, y_batch, h, n):\n",
        "    try:\n",
        "        R_it = np.linalg.inv(R.T)\n",
        "    except np.linalg.LinAlgError as err:\n",
        "        # print(err)\n",
        "        R_it = np.linalg.pinv(R.T)\n",
        "    exp_m = expm(-1/n* R @ R.T*h)\n",
        "    return Q @ ( exp_m @ (Q.T @ theta_0 - R_it @ y_batch )) + Q @ (R_it @ y_batch) + theta_0 - Q @ (Q.T @ theta_0)\n",
        "\n",
        "def solve_local_problem_b_1(x, theta_0, y, h, n):\n",
        "    x = x.T\n",
        "    norm = x.T @ x\n",
        "    return theta_0 + (1 - np.exp(-norm*h/n))*(y - x.T @ theta_0)/norm*x\n",
        "\n",
        "def loss(X, theta, y):\n",
        "    '''\n",
        "    Supports batch reformulation. The difference in dimension of the input\n",
        "    '''\n",
        "    if len(X.shape) == 2:\n",
        "        n, p = X.shape\n",
        "        return 1/n*np.linalg.norm(X @ theta - y)**2\n",
        "    elif len(X.shape) == 3:\n",
        "        s, b, p = Xs.shape\n",
        "        n = b*s\n",
        "\n",
        "        loss = 0\n",
        "        for i_batch in range(s):\n",
        "            loss += 1/n*np.linalg.norm(X[i_batch] @ theta - y[i_batch])**2\n",
        "        return loss\n",
        "    else:\n",
        "        raise ValueError('🤔 Inappropriate format of dataset')\n",
        "\n",
        "def rel_residual(X, theta, y):\n",
        "    '''\n",
        "    Supports batch reformulation. The difference in dimension of the input\n",
        "    '''\n",
        "    if len(X.shape) == 2:\n",
        "        n, p = X.shape\n",
        "        return np.linalg.norm(X @ theta - y)/np.linalg.norm(y)\n",
        "    elif len(X.shape) == 3:\n",
        "        s, b, p = Xs.shape\n",
        "        n = b*s\n",
        "\n",
        "        loss = 0\n",
        "        y_full = np.zeros(n)\n",
        "        X_full = np.zeros((n, p))\n",
        "        for i_batch in range(s):\n",
        "            y_full[b*i_batch:b*(i_batch+1)]     = y[i_batch]\n",
        "            X_full[b*i_batch:b*(i_batch+1), :]  = X[i_batch]\n",
        "\n",
        "        return np.linalg.norm(X_full @ theta - y_full)/np.linalg.norm(y_full)\n",
        "    else:\n",
        "        raise ValueError('🤔 Inappropriate format of dataset')\n",
        "\n",
        "\n",
        "def gradient(X, theta, y):\n",
        "    '''\n",
        "    Supports batch reformulation. The difference in dimension of the input\n",
        "    '''\n",
        "    if len(X.shape) == 2:\n",
        "        n, p = X.shape\n",
        "        return 1/n* X.T @ (X @ theta - y)\n",
        "    elif len(X.shape) == 3:\n",
        "        s, b, p = Xs.shape\n",
        "        n = b*s\n",
        "\n",
        "        gradient = 0\n",
        "        for i_batch in range(s):\n",
        "            gradient += 1/n* X[i_batch].T @ (X[i_batch] @ theta - y[i_batch])\n",
        "        return gradient\n",
        "    else:\n",
        "        raise ValueError('🤔 Inappropriate format of dataset')\n",
        "\n",
        "def make_SGD_step(X_batch, theta_0, y_batch, lr):\n",
        "    theta = theta_0 - lr*gradient(X_batch, theta_0, y_batch)\n",
        "    return theta\n",
        "\n",
        "def sgd_training(theta_0, theta_lstsq, Xs, ys, lr, N_epochs = N_epochs):\n",
        "    s, b, p = Xs.shape\n",
        "    n = b*s\n",
        "    loss_sgd, grad_sgd, par_diff_sgd = [], [], []\n",
        "    theta_t = theta_0\n",
        "    stop_word = False\n",
        "    for i_epoch in range(N_epochs):\n",
        "        loss_sgd.append(loss(Xs, theta_t, ys))\n",
        "        grad_sgd.append(np.linalg.norm(gradient(Xs, theta_t, ys)))\n",
        "        par_diff_sgd.append(np.linalg.norm(theta_t - theta_lstsq)/np.linalg.norm(theta_lstsq))\n",
        "        for i_batch in range(b):          \n",
        "            theta_t = make_SGD_step(Xs[i_batch], theta_t, ys[i_batch], lr)\n",
        "\n",
        "        sys.stdout.write('\\r'+f'🤖 SGD. Loss {loss_sgd[-1]:.3f}, Grad_norm {grad_sgd[-1]:.3f}, relpardiff {par_diff_sgd[-1]:.3f} after {i_epoch} epoch. Lr {lr}')\n",
        "\n",
        "    print('\\r'+f'🤖 SGD. Loss {loss_sgd[-1]:.3f}, Grad_norm {grad_sgd[-1]:.3f}, relpardiff {par_diff_sgd[-1]:.3f} after {i_epoch} epoch. Lr {lr}')    \n",
        "    return loss_sgd, grad_sgd, par_diff_sgd\n",
        "\n",
        "def spl_training(theta_0, theta_lstsq, Qs, Rs, Xs, ys, stepsize, N_spl_steps = N_spl_steps):\n",
        "    s, b, p = Xs.shape\n",
        "    n = b*s\n",
        "    loss_spl, grad_spl, par_diff_spl = [], [], []\n",
        "    theta_t = theta_0\n",
        "    for i_step in range(N_spl_steps):         \n",
        "        i_batch = i_step % s\n",
        "        if i_batch == 0:\n",
        "            loss_spl.append(loss(Xs, theta_t, ys))\n",
        "            grad_spl.append(np.linalg.norm(gradient(Xs, theta_t, ys)))\n",
        "            par_diff_spl.append(np.linalg.norm(theta_t - theta_lstsq)/np.linalg.norm(theta_lstsq))\n",
        "            sys.stdout.write('\\r'+f'🤖 Splitting I. Loss {loss_spl[-1]:.3f}, Grad_norm {grad_spl[-1]:.3f}, relpardiff {par_diff_spl[-1]:.3f} after {i_step} epoch. Stepsize {stepsize}')\n",
        "\n",
        "        theta_t = solve_local_problem(Qs[i_batch], Rs[i_batch], theta_t, ys[i_batch], stepsize, n)\n",
        "    \n",
        "    print('\\r'+f'🤖 Splitting I. Loss {loss_spl[-1]:.3f}, Grad_norm {grad_spl[-1]:.3f}, relpardiff {par_diff_spl[-1]:.3f} after {i_step} steps. Stepsize {stepsize}')\n",
        "    return loss_spl, grad_spl, par_diff_spl\n",
        "\n",
        "def plot_continuous_time_lls(times, losses, grads, rel_diffs, labels, N_epochs, title = 'Linear least squares. Random'):\n",
        "    colors = ['r', 'g']\n",
        "    color_labels = ['^', 'o']\n",
        "    fig, (ax1, ax2, ax3) = plt.subplots(1, 3, figsize = (9,3))\n",
        "    fig.suptitle(title)\n",
        "    for time, loss, grad, rel_diff, label, col, col_lab in zip(times, losses, grads, rel_diffs, labels, colors, color_labels):\n",
        "        ax1.semilogy(time, loss,     col+col_lab, label = label)\n",
        "        ax1.semilogy(time, loss,     col+':')\n",
        "        ax2.semilogy(time, grad,     col+col_lab, label = label)\n",
        "        ax2.semilogy(time, grad,     col+':')\n",
        "        ax3.semilogy(time, rel_diff, col+col_lab, label = label)\n",
        "        ax3.semilogy(time, rel_diff, col+':')\n",
        "    ax1.grid(True,which=\"both\", linestyle='--', linewidth=0.4)\n",
        "    ax1.set_title(r'$f(\\theta(t))$')\n",
        "    ax1.set_xlabel('t')\n",
        "    ax2.grid(True,which=\"both\", linestyle='--', linewidth=0.4)\n",
        "    ax2.set_title(r'$\\|\\nabla f(\\theta(t))\\|$')\n",
        "    ax2.set_xlabel('t')\n",
        "    ax3.grid(True,which=\"both\", linestyle='--', linewidth=0.4)\n",
        "    ax3.set_title(r'$\\frac{\\|\\theta(t) - \\theta_{LS}\\|}{\\|\\theta_{LS}\\|}$')\n",
        "    ax3.set_xlabel('t')\n",
        "    plt.legend()\n",
        "    fig.tight_layout()\n",
        "    # plt.savefig(title + '.pdf')\n",
        "    plt.show()"
      ],
      "execution_count": 0,
      "outputs": []
    },
    {
      "cell_type": "code",
      "metadata": {
        "id": "ieEPs2uGRJ8k",
        "colab_type": "code",
        "colab": {
          "base_uri": "https://localhost:8080/",
          "height": 85
        },
        "outputId": "15911f5d-4036-4d69-feae-31aeefffb6a6"
      },
      "source": [
        "# ======= Problem generation =======\n",
        "\n",
        "# We fix best learning rate for the SGD and try different hs for the splitting. \n",
        "# Drawing 3 graphs in cont time (loss, grad_norm, norm of theparameter difference)\n",
        "\n",
        "p = 500\n",
        "n = 1000\n",
        "s = 50\n",
        "b = 20\n",
        "epsilon = 1e-1\n",
        "\n",
        "LEARNING_RATE = 10**(-1.5)\n",
        "N_epochs = 20\n",
        "h = 1\n",
        "\n",
        "N_spl_steps  = int(N_epochs*LEARNING_RATE*n/h)\n",
        "N_spl_epochs = int(np.floor(N_epochs*LEARNING_RATE*b/h))\n",
        "\n",
        "LABELS = ['SGD', 'Splitting I']\n",
        "ts_sgd = np.linspace(0, N_epochs*LEARNING_RATE*b, int(N_epochs))\n",
        "ts_spl = np.linspace(0, N_spl_epochs*h, N_spl_epochs+1)\n",
        "# ts_spl = np.linspace(0, N_epochs*LEARNING_RATE*b, N_spl_epochs)\n",
        "\n",
        "# problems = ['tomography', 'random']\n",
        "# problems = ['tomography']\n",
        "problems = ['random']\n",
        "\n",
        "X, theta_0, y, theta_lstsq = generate_problem(p, n, lstsq=True, epsilon = epsilon)\n",
        "Xs = np.zeros((s, b, p))\n",
        "ys = np.zeros((s, b))\n",
        "Qs = np.zeros((s, p, b))\n",
        "Rs = np.zeros((s, b, b))\n",
        "Q, R = qr(X.T, mode='economic')\n",
        "\n",
        "for i_batch in range(s):\n",
        "    Xs[i_batch] = X[b*i_batch:b*(i_batch+1), :]\n",
        "    ys[i_batch] = y[b*i_batch:b*(i_batch+1)]\n",
        "    Qs[i_batch], Rs[i_batch] = qr(Xs[i_batch].T, mode='economic')\n",
        "\n",
        "loss_sgd, grad_sgd, par_diff_sgd = sgd_training(theta_0, theta_lstsq, Xs, ys, lr = LEARNING_RATE, N_epochs = N_epochs)\n",
        "loss_spl, grad_spl, par_diff_spl = spl_training(theta_0, theta_lstsq, Qs, Rs, Xs, ys, stepsize = h, N_spl_steps = N_spl_steps)"
      ],
      "execution_count": 141,
      "outputs": [
        {
          "output_type": "stream",
          "text": [
            "/usr/local/lib/python3.6/dist-packages/ipykernel_launcher.py:20: FutureWarning: `rcond` parameter will change to the default of machine precision times ``max(M, N)`` where M and N are the input matrix dimensions.\n",
            "To use the future default and silence this warning we advise to pass `rcond=None`, to keep using the old, explicitly pass `rcond=-1`.\n"
          ],
          "name": "stderr"
        },
        {
          "output_type": "stream",
          "text": [
            "🤖 SGD. Loss 68.615, Grad_norm 8.504, relpardiff 0.496 after 19 epoch. Lr 0.03162277660168379\n",
            "🤖 Splitting I. Loss 0.404, Grad_norm 0.333, relpardiff 0.074 after 631 steps. Stepsize 1\n"
          ],
          "name": "stdout"
        }
      ]
    },
    {
      "cell_type": "code",
      "metadata": {
        "id": "3P1V9okPc2F2",
        "colab_type": "code",
        "colab": {
          "base_uri": "https://localhost:8080/",
          "height": 34
        },
        "outputId": "164a40d7-dde2-45ca-fdb9-98113dbea486"
      },
      "source": [
        "ts_spl"
      ],
      "execution_count": 129,
      "outputs": [
        {
          "output_type": "execute_result",
          "data": {
            "text/plain": [
              "array([0. , 0.5, 1. , 1.5, 2. , 2.5, 3. , 3.5, 4. , 4.5, 5. , 5.5, 6. ])"
            ]
          },
          "metadata": {
            "tags": []
          },
          "execution_count": 129
        }
      ]
    },
    {
      "cell_type": "code",
      "metadata": {
        "id": "9pkYNOtYSLkR",
        "colab_type": "code",
        "colab": {
          "base_uri": "https://localhost:8080/",
          "height": 232
        },
        "outputId": "38d87e9a-6dd8-431f-b22d-1713217810fe"
      },
      "source": [
        "times     = [ts_sgd, ts_spl]\n",
        "losses    = [loss_sgd, loss_spl]\n",
        "grads     = [grad_sgd, grad_spl]\n",
        "rel_diffs = [par_diff_sgd, par_diff_spl]\n",
        "labels    = ['SGD', 'Splitting I']\n",
        "title     = f'Random LLS. n={n}, b={b}, p={p}'\n",
        "plot_continuous_time_lls(times, losses, grads, rel_diffs, labels, N_epochs, title)"
      ],
      "execution_count": 142,
      "outputs": [
        {
          "output_type": "display_data",
          "data": {
            "image/png": "[encoded data removed]",
            "text/plain": [
              "<Figure size 648x216 with 3 Axes>"
            ]
          },
          "metadata": {
            "tags": [],
            "needs_background": "light"
          }
        }
      ]
    }
  ]
}