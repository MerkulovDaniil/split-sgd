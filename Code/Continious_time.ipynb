{
  "nbformat": 4,
  "nbformat_minor": 0,
  "metadata": {
    "colab": {
      "name": "Continious time.ipynb",
      "provenance": [],
      "authorship_tag": "ABX9TyNxgIYugj/RTZh6k9AsvTuW",
      "include_colab_link": true
    },
    "kernelspec": {
      "name": "python3",
      "display_name": "Python 3"
    }
  },
  "cells": [
    {
      "cell_type": "markdown",
      "metadata": {
        "id": "view-in-github",
        "colab_type": "text"
      },
      "source": [
        "<a href=\"https://colab.research.google.com/github/MerkulovDaniil/split-sgd/blob/master/Code/Continious_time.ipynb\" target=\"_parent\"><img src=\"https://colab.research.google.com/assets/colab-badge.svg\" alt=\"Open In Colab\"/></a>"
      ]
    },
    {
      "cell_type": "markdown",
      "metadata": {
        "id": "yR8uSVLhSVKk",
        "colab_type": "text"
      },
      "source": [
        "# Linear regression"
      ]
    },
    {
      "cell_type": "code",
      "metadata": {
        "id": "kTO963H5Rpwh",
        "colab_type": "code",
        "colab": {
          "base_uri": "https://localhost:8080/",
          "height": 469
        },
        "outputId": "86264278-9d7d-46f3-b22a-5b536178a701"
      },
      "source": [
        "# ======= Libraries =======\n",
        "import time\n",
        "import numpy as np\n",
        "from matplotlib import pyplot as plt\n",
        "import scipy.linalg\n",
        "from scipy.linalg import expm, qr\n",
        "import copy\n",
        "from tqdm import tqdm\n",
        "\n",
        "# ======= Function definitions =======\n",
        "\n",
        "def generate_problem(p, n, lstsq=False, epsilon = 1e-2):\n",
        "    X = np.random.randn(n, p)\n",
        "\n",
        "    # Model definition\n",
        "    theta_clean = np.ones(p)\n",
        "    y = X @ theta_clean + epsilon*np.random.randn(n) # right-hand side\n",
        "    theta_0 = np.random.randn(p)\n",
        "\n",
        "    if lstsq == True:\n",
        "        theta_lstsq = np.linalg.lstsq(X,y)[0]\n",
        "        return X, theta_0, y, theta_lstsq\n",
        "    else:\n",
        "        return X, theta_0, y\n",
        "\n",
        "def solve_local_problem(Q, R, theta_0, y_batch, h, n):\n",
        "    R_it = np.linalg.inv(R.T)\n",
        "    exp_m = expm(-1/n* R @ R.T*h)\n",
        "    return Q @ ( exp_m @ (Q.T @ theta_0 - R_it @ y_batch )) + Q @ (R_it @ y_batch) + theta_0 - Q @ (Q.T @ theta_0)\n",
        "\n",
        "def solve_local_problem_b_1(x, theta_0, y, h, n):\n",
        "    x = x.T\n",
        "    norm = x.T @ x\n",
        "    return theta_0 + (1 - np.exp(-norm*h/n))*(y - x.T @ theta_0)/norm*x\n",
        "\n",
        "def loss(X, theta, y):\n",
        "    '''\n",
        "    Supports batch reformulation. The difference in dimension of the input\n",
        "    '''\n",
        "    if len(X.shape) == 2:\n",
        "        n, p = X.shape\n",
        "        return 1/n*np.linalg.norm(X @ theta - y)**2\n",
        "    elif len(X.shape) == 3:\n",
        "        s, b, p = Xs.shape\n",
        "        n = b*s\n",
        "        loss = 0\n",
        "        for i_batch in range(s):\n",
        "            loss += 1/n*np.linalg.norm(X[i_batch] @ theta - y[i_batch])**2\n",
        "        return loss\n",
        "    else:\n",
        "        raise ValueError('🤔 Inappropriate format of dataset')\n",
        "\n",
        "\n",
        "def gradient(X, theta, y):\n",
        "    n, p = X.shape\n",
        "    return 1/n* X.T @ (X @ theta - y)\n",
        "\n",
        "def make_SGD_step(X_batch, theta_0, y_batch, h):\n",
        "    theta = theta_0 - h*gradient(X_batch, theta_0, y_batch)\n",
        "    return theta\n",
        "\n",
        "def relative_error(theta, thetalstsq=0):\n",
        "    p = len(theta)\n",
        "    if np.linalg.norm(thetalstsq) != 0:\n",
        "        return(np.linalg.norm(theta - thetalstsq)/np.linalg.norm(thetalstsq))\n",
        "    else:\n",
        "        return(np.linalg.norm(theta - np.ones(p))/np.linalg.norm(np.ones(p)))\n",
        "\n",
        "def logarithmic_norm(A):\n",
        "    w,v = np.linalg.eig((A + A.T)/2)\n",
        "    return(max(w))\n",
        "\n",
        "def gradient_flow_trajectory(Q, R, theta_0, y, ts):\n",
        "    p, n = Q.shape\n",
        "    print('🤖 GF trajectory started')\n",
        "    thetas = []\n",
        "    losses = []\n",
        "\n",
        "    for t in tqdm(ts):\n",
        "        theta_t = solve_local_problem(Q, R, theta_0, y, t, n)\n",
        "        thetas.append(theta_t)\n",
        "        loss_t = loss(R.T@Q.T, theta_t, y)\n",
        "        losses.append(loss_t)\n",
        "    \n",
        "    print('🤖 GF trajectory finished')\n",
        "\n",
        "    return thetas, losses\n",
        "\n",
        "def sgd_trajectory(Xs, theta_0, ys, ts):\n",
        "    print('🤖 SGD trajectory started')\n",
        "    s, b, p = Xs.shape\n",
        "    n = b*s\n",
        "    thetas = []\n",
        "    losses = []\n",
        "    theta_t = theta_0\n",
        "    \n",
        "    for i_t in range(len(ts)):\n",
        "        t = ts[i_t]\n",
        "        thetas.append(theta_t)\n",
        "        loss_t = loss(Xs, theta_t, ys)\n",
        "        losses.append(loss_t)\n",
        "        \n",
        "        if t == ts[-1]:\n",
        "            break\n",
        "\n",
        "        h = ts[i_t+1] - ts[i_t]\n",
        "        for i_batch in range(s):\n",
        "            theta_t = make_SGD_step(Xs[i_batch], theta_t, ys[i_batch], h)\n",
        "       \n",
        "    \n",
        "    print('🤖 SGD trajectory finished')\n",
        "\n",
        "    return thetas, losses\n",
        "\n",
        "def spl_trajectory(Qs, Rs, theta_0, ys, ts):\n",
        "    print('🤖 Splitting trajectory started')\n",
        "    s, b, p = Qs.shape\n",
        "    n = b*s\n",
        "    thetas = []\n",
        "    losses = []\n",
        "    theta_t = theta_0\n",
        "    ts_new = []\n",
        "    \n",
        "    for i_t in range(len(ts)):\n",
        "        t = ts[i_t]\n",
        "        thetas.append(theta_t)\n",
        "        loss_t = loss(Xs, theta_t, ys)\n",
        "        losses.append(loss_t)\n",
        "        \n",
        "        if t == ts[-1]:\n",
        "            break\n",
        "\n",
        "        h = ts[i_t+1] - ts[i_t]\n",
        "        for i_batch in range(s):\n",
        "            # ts_new.append(ts[i_t] + i_batch*h/s)\n",
        "            # thetas.append(theta_t)\n",
        "            # loss_t = loss(Xs, theta_t, ys)\n",
        "            # losses.append(loss_t)\n",
        "            theta_t = solve_local_problem(Qs[i_batch], Rs[i_batch], theta_t, ys[i_batch], h, n)\n",
        "       \n",
        "    \n",
        "    print('🤖 Splitting trajectory finished')\n",
        "\n",
        "    return thetas, losses\n",
        "\n",
        "def spl2_trajectory(Qs, Rs, theta_0, ys, ts):\n",
        "    print('🤖 Splitting trajectory started')\n",
        "    s, b, p = Qs.shape\n",
        "    n = b*s\n",
        "    thetas = []\n",
        "    losses = []\n",
        "    theta_t = theta_0\n",
        "    ts_new = []\n",
        "    \n",
        "    for i_t in range(len(ts)):\n",
        "        t = ts[i_t]\n",
        "        thetas.append(theta_t)\n",
        "        loss_t = loss(Xs, theta_t, ys)\n",
        "        losses.append(loss_t)\n",
        "        \n",
        "        if t == ts[-1]:\n",
        "            break\n",
        "\n",
        "        h = ts[i_t+1] - ts[i_t]\n",
        "        for i_batch in range(s-1):\n",
        "            # ts_new.append(ts[i_t] + i_batch*h/(2*s))\n",
        "            # thetas.append(theta_t)\n",
        "            # loss_t = loss(Xs, theta_t, ys)\n",
        "            # losses.append(loss_t)\n",
        "            theta_t = solve_local_problem(Qs[i_batch], Rs[i_batch], theta_t, ys[i_batch], h/2, n)\n",
        "        \n",
        "        # ts_new.append(ts[i_t] + h/(*s))\n",
        "        # thetas.append(theta_t)\n",
        "        # loss_t = loss(Xs, theta_t, ys)\n",
        "        # losses.append(loss_t)\n",
        "        theta_t = solve_local_problem(Qs[s-1], Rs[s-1], theta_t, ys[s-1], h, n)\n",
        "\n",
        "        for j_batch in range(s-1):\n",
        "            i_batch = s - (j_batch + 2) \n",
        "            # ts_new.append(ts[i_t] + j_batch*h/(2*s))\n",
        "            # thetas.append(theta_t)\n",
        "            # loss_t = loss(Xs, theta_t, ys)\n",
        "            # losses.append(loss_t)\n",
        "            theta_t = solve_local_problem(Qs[i_batch], Rs[i_batch], theta_t, ys[i_batch], h/2, n)\n",
        "    \n",
        "    print('🤖 Splitting trajectory finished')\n",
        "\n",
        "    return thetas, losses\n",
        "\n",
        "# ======= Problem generation =======\n",
        "\n",
        "hs = np.logspace(-2, -1, 12)\n",
        "p = 300\n",
        "n = 300\n",
        "s = 20\n",
        "b = 15\n",
        "n_max_iter = 2000\n",
        "epsilon = 0\n",
        "n_experiments = 30\n",
        "\n",
        "X, theta_0, y, theta_lstsq = generate_problem(p,n, lstsq=True)\n",
        "\n",
        "Xs = np.zeros((s, b, p))\n",
        "ys = np.zeros((s, b))\n",
        "Qs = np.zeros((s, p, b))\n",
        "Rs = np.zeros((s, b, b))\n",
        "Q, R = qr(X.T, mode='economic')\n",
        "\n",
        "for i_batch in range(s):\n",
        "    Xs[i_batch] = X[b*i_batch:b*(i_batch+1), :]\n",
        "    ys[i_batch] = y[b*i_batch:b*(i_batch+1)]\n",
        "    Qs[i_batch], Rs[i_batch] = qr(Xs[i_batch].T, mode='economic')\n",
        "\n",
        "print('QR finished')\n",
        "\n",
        "theta_0     = np.random.randn(p)\n",
        "total_time  = 0.1\n",
        "learning_rate = 4e-3\n",
        "h = learning_rate*s\n",
        "ts_gf = np.linspace(0, total_time)\n",
        "ts_sgd = np.linspace(0, total_time, 10)\n",
        "ts_spl = np.linspace(0, total_time, 20)\n",
        "\n",
        "# ======= Trajectory generation =======\n",
        "thetas_gf, losses_gf    = gradient_flow_trajectory(Q, R, theta_0, y, ts_gf)\n",
        "# thetas_sgd, losses_sgd  = sgd_trajectory(Xs, theta_0, ys, ts_sgd)\n",
        "thetas_spl, losses_spl = spl_trajectory(Qs, Rs, theta_0, ys, ts_spl)\n",
        "thetas_spl2, losses_spl2 = spl2_trajectory(Qs, Rs, theta_0, ys, ts_spl)\n",
        "\n",
        "plt.figure(figsize=(6.0, 4.0))\n",
        "# plt.semilogy(np.linspace(0,total_time, repetitions), par_residuals_true[:-1], 'go', label = 'True')\n",
        "# plt.semilogy(np.linspace(0,total_time, repetitions), par_residuals_true[:-1], 'g')\n",
        "plt.semilogy(ts_gf, losses_gf, 'g', label = 'GF')\n",
        "# plt.semilogy(ts_sgd, losses_sgd, 'r', label = 'SGD as splitting')\n",
        "plt.semilogy(ts_spl, losses_spl, 'b', label = 'Splitting I')\n",
        "plt.semilogy(ts_spl, losses_spl2, 'r', label = 'Splitting II')\n",
        "plt.grid(True, linestyle='--', linewidth=0.4)\n",
        "# plt.grid()\n",
        "plt.xlabel('t')\n",
        "plt.ylabel('Loss')\n",
        "plt.legend()\n",
        "\n",
        "# plt.savefig('sgd_split_step_n{}.svg'.format(epsilon))\n",
        "plt.savefig('convergence_lls.pdf')\n",
        "plt.show()"
      ],
      "execution_count": 77,
      "outputs": [
        {
          "output_type": "stream",
          "text": [
            "/usr/local/lib/python3.6/dist-packages/ipykernel_launcher.py:20: FutureWarning: `rcond` parameter will change to the default of machine precision times ``max(M, N)`` where M and N are the input matrix dimensions.\n",
            "To use the future default and silence this warning we advise to pass `rcond=None`, to keep using the old, explicitly pass `rcond=-1`.\n",
            "  8%|▊         | 4/50 [00:00<00:01, 32.43it/s]"
          ],
          "name": "stderr"
        },
        {
          "output_type": "stream",
          "text": [
            "QR finished\n",
            "🤖 GF trajectory started\n"
          ],
          "name": "stdout"
        },
        {
          "output_type": "stream",
          "text": [
            "100%|██████████| 50/50 [00:01<00:00, 25.36it/s]\n"
          ],
          "name": "stderr"
        },
        {
          "output_type": "stream",
          "text": [
            "🤖 GF trajectory finished\n",
            "🤖 Splitting trajectory started\n",
            "🤖 Splitting trajectory finished\n",
            "🤖 Splitting trajectory started\n",
            "🤖 Splitting trajectory finished\n"
          ],
          "name": "stdout"
        },
        {
          "output_type": "display_data",
          "data": {
            "image/png": "[encoded data removed]",
            "text/plain": [
              "<Figure size 432x288 with 1 Axes>"
            ]
          },
          "metadata": {
            "tags": []
          }
        }
      ]
    },
    {
      "cell_type": "code",
      "metadata": {
        "id": "sVV6gRS7c-bS",
        "colab_type": "code",
        "colab": {
          "base_uri": "https://localhost:8080/",
          "height": 357
        },
        "outputId": "43b47d06-56de-44da-b83a-ace03064b743"
      },
      "source": [
        "[losses_spl2[i]/losses_spl[i] for i in range(len(losses_spl2))]"
      ],
      "execution_count": 78,
      "outputs": [
        {
          "output_type": "execute_result",
          "data": {
            "text/plain": [
              "[1.0,\n",
              " 1.0000000038989045,\n",
              " 1.0000000078014124,\n",
              " 1.0000000117075165,\n",
              " 1.000000015617207,\n",
              " 1.0000000195304741,\n",
              " 1.0000000234473105,\n",
              " 1.000000027367709,\n",
              " 1.000000031291657,\n",
              " 1.0000000352191478,\n",
              " 1.0000000391501722,\n",
              " 1.0000000430847218,\n",
              " 1.000000047022788,\n",
              " 1.0000000509643605,\n",
              " 1.0000000549094321,\n",
              " 1.0000000588579936,\n",
              " 1.0000000628100358,\n",
              " 1.0000000667655502,\n",
              " 1.0000000707245276,\n",
              " 1.0000000746869595]"
            ]
          },
          "metadata": {
            "tags": []
          },
          "execution_count": 78
        }
      ]
    },
    {
      "cell_type": "code",
      "metadata": {
        "id": "qvJXCLUy4UZz",
        "colab_type": "code",
        "colab": {}
      },
      "source": [
        ""
      ],
      "execution_count": 0,
      "outputs": []
    }
  ]
}