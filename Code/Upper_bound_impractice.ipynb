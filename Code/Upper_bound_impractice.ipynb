{
  "nbformat": 4,
  "nbformat_minor": 0,
  "metadata": {
    "colab": {
      "name": "Upper_bound_impractice.ipynb",
      "provenance": [],
      "collapsed_sections": [],
      "toc_visible": true
    },
    "kernelspec": {
      "name": "python3",
      "display_name": "Python 3"
    }
  },
  "cells": [
    {
      "cell_type": "markdown",
      "metadata": {
        "id": "jWkXuTlYFMOb",
        "colab_type": "text"
      },
      "source": [
        "# Two batches"
      ]
    },
    {
      "cell_type": "code",
      "metadata": {
        "id": "bVb5WQJIAwKO",
        "colab_type": "code",
        "colab": {}
      },
      "source": [
        "import time\n",
        "import numpy as np\n",
        "from matplotlib import pyplot as plt\n",
        "import scipy.linalg\n",
        "from scipy.linalg import expm\n",
        "import copy\n",
        "\n",
        "def commutator(A1, A2):\n",
        "    return A1 @ A2 - A2 @ A1\n",
        "\n",
        "def log_norm(A):\n",
        "    w,v = np.linalg.eig((A + A.T)/2)\n",
        "    mu = np.round(max(w), 14)\n",
        "    return max(w) \n",
        "\n",
        "def sheng_upper_bound(t, A1, A2):\n",
        "    mu1 = log_norm(A1)\n",
        "    mu2 = log_norm(A2)\n",
        "    return t**2/2 * np.linalg.norm(commutator(A1, A2), ord=2)*np.exp((mu1 + mu2)*t)\n",
        "\n",
        "def true_error(t, A1, A2):\n",
        "    return np.linalg.norm(expm((A1 + A2)*t) - expm(A1*t) @ expm(A2*t), ord=2)\n",
        "\n",
        "def generate_problem(p, n):\n",
        "    X = np.random.randn(n, p)\n",
        "\n",
        "    # Model definition\n",
        "    theta_clean = np.ones(p)\n",
        "    y = X @ theta_clean + 5e-1*np.random.randn(n) # right-hand side\n",
        "    theta_0 = np.random.randn(p)\n",
        "\n",
        "    return X, theta_0, y\n",
        "\n",
        "def plot_errors(errors_list, label_list, t):\n",
        "    linestyles = ['-', '--', ':', '-.']\n",
        "    for errors, label, style in zip(errors_list, label_list, linestyles):\n",
        "        plt.semilogy(t, errors, style, label=label)\n",
        "    \n",
        "    plt.legend()\n",
        "    plt.xlabel('t')\n",
        "    plt.ylabel('Norm of the error')\n",
        "    plt.grid(True, linestyle='--', linewidth=0.4)\n",
        "    plt.savefig('upper_bound_2.pdf')\n",
        "    plt.show()\n",
        "\n",
        "def plot_calculated_constant(X1, X2):\n",
        "    Q1, R1 = np.linalg.qr(X1.T)\n",
        "    Q2, R2 = np.linalg.qr(X2.T)\n",
        "    p, b = Q1.shape\n",
        "    return np.linalg.norm((np.eye(p) - Q1@Q1.T)@(np.eye(p) - Q2@Q2.T), ord=2)\n"
      ],
      "execution_count": 0,
      "outputs": []
    },
    {
      "cell_type": "code",
      "metadata": {
        "id": "-Gw2Ph3ECu00",
        "colab_type": "code",
        "colab": {}
      },
      "source": [
        "p = 100\n",
        "n = 100\n",
        "N = 2\n",
        "b = 50\n",
        "\n",
        "X, theta_0, y = generate_problem(p,n)\n",
        "\n",
        "Xs = np.zeros((N, b, p))\n",
        "ys = np.zeros((N, b))\n",
        "\n",
        "for i_batch in range(N):\n",
        "    Xs[i_batch] = X[b*i_batch:b*(i_batch+1), :] \n",
        "    ys[i_batch] = y[b*i_batch:b*(i_batch+1)]\n",
        "\n",
        "A1 = -1/n*Xs[0].T @ Xs[0]\n",
        "A2 = -1/n*Xs[1].T @ Xs[1]"
      ],
      "execution_count": 0,
      "outputs": []
    },
    {
      "cell_type": "code",
      "metadata": {
        "id": "QCzXXRK-C2TV",
        "colab_type": "code",
        "colab": {}
      },
      "source": [
        "ts = np.linspace(0,15)\n",
        "sheng_errors = [sheng_upper_bound(t, A1, A2) for t in ts]\n",
        "true_errors  = [true_error(t, A1, A2)        for t in ts]\n",
        "constant     = plot_calculated_constant(Xs[0], Xs[1])\n",
        "constants    = [constant                     for t in ts]"
      ],
      "execution_count": 0,
      "outputs": []
    },
    {
      "cell_type": "code",
      "metadata": {
        "id": "3ZI4yTJKC7Bd",
        "colab_type": "code",
        "outputId": "1377dd4d-1261-417b-9b94-060d5c95eea0",
        "colab": {
          "base_uri": "https://localhost:8080/",
          "height": 313
        }
      },
      "source": [
        "plot_errors([true_errors, constants, sheng_errors], ['True error', 'Calculated upper bound','Sheng upper bound'], ts)"
      ],
      "execution_count": 27,
      "outputs": [
        {
          "output_type": "stream",
          "text": [
            "/usr/local/lib/python3.6/dist-packages/numpy/core/_asarray.py:85: ComplexWarning: Casting complex values to real discards the imaginary part\n",
            "  return array(a, dtype, copy=False, order=order)\n"
          ],
          "name": "stderr"
        },
        {
          "output_type": "display_data",
          "data": {
            "image/png": "[encoded data removed]",
            "text/plain": [
              "<Figure size 432x288 with 1 Axes>"
            ]
          },
          "metadata": {
            "tags": []
          }
        }
      ]
    },
    {
      "cell_type": "markdown",
      "metadata": {
        "id": "ST2aqW2BFPdB",
        "colab_type": "text"
      },
      "source": [
        "# Many batches"
      ]
    },
    {
      "cell_type": "code",
      "metadata": {
        "id": "1Az7edynGLAV",
        "colab_type": "code",
        "colab": {}
      },
      "source": [
        "import time\n",
        "import numpy as np\n",
        "from matplotlib import pyplot as plt\n",
        "import scipy.linalg\n",
        "from scipy.linalg import expm\n",
        "import copy\n",
        "from random import shuffle\n",
        "from tqdm import tqdm\n",
        "\n",
        "\n",
        "def true_error(t, As):\n",
        "    # placeholder for the summand matrix and approximate solution\n",
        "    A               = np.zeros(As[0].shape)\n",
        "    approximation   = np.eye(len(As[0]))\n",
        "    for A_i in As:\n",
        "        A               += A_i\n",
        "        approximation   = approximation @ expm(A_i*t)\n",
        "    true_solution = expm(A*t)\n",
        "    return np.linalg.norm(true_solution - approximation, ord=2)\n",
        "\n",
        "def generate_problem(p,n,s):\n",
        "    X = np.random.randn(n, p)\n",
        "\n",
        "    # Model definition\n",
        "    theta_clean = np.ones(p)\n",
        "    y = X @ theta_clean + 5e-1*np.random.randn(n) # right-hand side\n",
        "    theta_0 = np.random.randn(p)\n",
        "\n",
        "    b = int(n // s)\n",
        "    Xs = np.zeros((s, b, p))\n",
        "    ys = np.zeros((s, b))\n",
        "\n",
        "    As = []\n",
        "    for i_batch in range(s):\n",
        "        Xs[i_batch] = X[b*i_batch:b*(i_batch+1), :] \n",
        "        ys[i_batch] = y[b*i_batch:b*(i_batch+1)]\n",
        "        As.append(-1/n*Xs[i_batch].T @ Xs[i_batch])\n",
        "\n",
        "    return As, Xs\n",
        "\n",
        "def plot_errors(errors_list, label_list, t, title=''):\n",
        "    linestyles = ['-', '--', ':', '-.']\n",
        "    for errors, label, style in zip(errors_list, label_list, linestyles):\n",
        "        plt.semilogy(t, errors, style, label=label)\n",
        "    \n",
        "    plt.title(title)\n",
        "    plt.legend()\n",
        "    plt.xlabel('t')\n",
        "    plt.ylabel('Norm of the error')\n",
        "    plt.grid(True, linestyle='--', linewidth=0.4)\n",
        "    plt.savefig('upper_bound_many.pdf')\n",
        "    plt.show()\n",
        "\n",
        "def plot_calculated_constant(Xs):\n",
        "    b, p = Xs[0].shape\n",
        "    error_product = np.eye(p)\n",
        "    for X_i in Xs:\n",
        "        Q_i, R_i = np.linalg.qr(X_i.T)\n",
        "        projector_i = (np.eye(p) - Q_i@Q_i.T)\n",
        "        error_product = error_product @ projector_i\n",
        "  \n",
        "    return np.linalg.norm(error_product, ord=2)"
      ],
      "execution_count": 0,
      "outputs": []
    },
    {
      "cell_type": "code",
      "metadata": {
        "id": "EJvpiLsrWOdo",
        "colab_type": "code",
        "colab": {}
      },
      "source": [
        "p = 200\n",
        "n = 200\n",
        "s = 40\n",
        "\n",
        "As, Xs = generate_problem(p,n,s)\n",
        "\n",
        "ts = np.linspace(0,20)\n",
        "true_errors  = [true_error(t, As)   for t in ts]\n",
        "constant     = plot_calculated_constant(Xs)\n",
        "constants    = [constant            for t in ts]"
      ],
      "execution_count": 0,
      "outputs": []
    },
    {
      "cell_type": "code",
      "metadata": {
        "id": "nTeQtQCVZe7R",
        "colab_type": "code",
        "outputId": "89c3f98f-d57d-42ae-ab06-4819e4bf6ae9",
        "colab": {
          "base_uri": "https://localhost:8080/",
          "height": 297
        }
      },
      "source": [
        "plot_errors([true_errors, constants], ['True error', 'Calculated upper bound'], ts, title=r'Linear System {} $\\times$ {}, {} batches'.format(n,p,s))"
      ],
      "execution_count": 23,
      "outputs": [
        {
          "output_type": "display_data",
          "data": {
            "image/png": "[encoded data removed]",
            "text/plain": [
              "<Figure size 432x288 with 1 Axes>"
            ]
          },
          "metadata": {
            "tags": []
          }
        }
      ]
    },
    {
      "cell_type": "code",
      "metadata": {
        "id": "9PBwZRYqojTx",
        "colab_type": "code",
        "outputId": "75d3e221-909f-40df-972b-3dfbbfeea2a5",
        "colab": {
          "base_uri": "https://localhost:8080/",
          "height": 35
        }
      },
      "source": [
        "len(As)"
      ],
      "execution_count": 0,
      "outputs": [
        {
          "output_type": "execute_result",
          "data": {
            "text/plain": [
              "2"
            ]
          },
          "metadata": {
            "tags": []
          },
          "execution_count": 116
        }
      ]
    },
    {
      "cell_type": "code",
      "metadata": {
        "id": "7bjPkeIfO05z",
        "colab_type": "code",
        "outputId": "192935b4-8616-427a-daa5-583fbe6e5bca",
        "colab": {
          "base_uri": "https://localhost:8080/",
          "height": 35
        }
      },
      "source": [
        "constants = []\n",
        "for i in tqdm(range(1000)):\n",
        "    perm = permute(len(Xs))\n",
        "    constants.append(plot_calculated_constant(Xs[perm]))"
      ],
      "execution_count": 0,
      "outputs": [
        {
          "output_type": "stream",
          "text": [
            "100%|██████████| 1000/1000 [01:01<00:00, 16.45it/s]\n"
          ],
          "name": "stderr"
        }
      ]
    },
    {
      "cell_type": "code",
      "metadata": {
        "id": "TvYL39z_h5o_",
        "colab_type": "code",
        "outputId": "a7c22aa4-420e-476c-e3ab-504e9f581cc7",
        "colab": {
          "base_uri": "https://localhost:8080/",
          "height": 35
        }
      },
      "source": [
        "(max(constants) - min(constants))/min(constants)"
      ],
      "execution_count": 0,
      "outputs": [
        {
          "output_type": "execute_result",
          "data": {
            "text/plain": [
              "1.8472395725407192e-06"
            ]
          },
          "metadata": {
            "tags": []
          },
          "execution_count": 195
        }
      ]
    }
  ]
}